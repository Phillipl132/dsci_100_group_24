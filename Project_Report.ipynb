{
 "cells": [
  {
   "cell_type": "markdown",
   "metadata": {},
   "source": [
    "# Pulsar Classification Project Proposal\n",
    "###### By Bernie Leung, Phillip Li, Glen Ren, and Helena Tremblay\n",
    "\n",
    "### Introduction (Phillip)\n",
    "\n",
    "### Methods & Results (Bernie & Glen)\n",
    "#### Load Data from Original Source on Web"
   ]
  },
  {
   "cell_type": "code",
   "execution_count": 3,
   "metadata": {},
   "outputs": [
    {
     "name": "stderr",
     "output_type": "stream",
     "text": [
      "── \u001b[1mAttaching packages\u001b[22m ─────────────────────────────────────── tidyverse 1.3.0 ──\n",
      "\n",
      "\u001b[32m✔\u001b[39m \u001b[34mggplot2\u001b[39m 3.3.2     \u001b[32m✔\u001b[39m \u001b[34mpurrr  \u001b[39m 0.3.4\n",
      "\u001b[32m✔\u001b[39m \u001b[34mtibble \u001b[39m 3.0.3     \u001b[32m✔\u001b[39m \u001b[34mdplyr  \u001b[39m 1.0.2\n",
      "\u001b[32m✔\u001b[39m \u001b[34mtidyr  \u001b[39m 1.1.2     \u001b[32m✔\u001b[39m \u001b[34mstringr\u001b[39m 1.4.0\n",
      "\u001b[32m✔\u001b[39m \u001b[34mreadr  \u001b[39m 1.3.1     \u001b[32m✔\u001b[39m \u001b[34mforcats\u001b[39m 0.5.0\n",
      "\n",
      "Warning message:\n",
      "“package ‘ggplot2’ was built under R version 4.0.1”\n",
      "Warning message:\n",
      "“package ‘tibble’ was built under R version 4.0.2”\n",
      "Warning message:\n",
      "“package ‘tidyr’ was built under R version 4.0.2”\n",
      "Warning message:\n",
      "“package ‘dplyr’ was built under R version 4.0.2”\n",
      "── \u001b[1mConflicts\u001b[22m ────────────────────────────────────────── tidyverse_conflicts() ──\n",
      "\u001b[31m✖\u001b[39m \u001b[34mdplyr\u001b[39m::\u001b[32mfilter()\u001b[39m masks \u001b[34mstats\u001b[39m::filter()\n",
      "\u001b[31m✖\u001b[39m \u001b[34mdplyr\u001b[39m::\u001b[32mlag()\u001b[39m    masks \u001b[34mstats\u001b[39m::lag()\n",
      "\n",
      "Warning message:\n",
      "“package ‘tidymodels’ was built under R version 4.0.2”\n",
      "── \u001b[1mAttaching packages\u001b[22m ────────────────────────────────────── tidymodels 0.1.1 ──\n",
      "\n",
      "\u001b[32m✔\u001b[39m \u001b[34mbroom    \u001b[39m 0.7.0      \u001b[32m✔\u001b[39m \u001b[34mrecipes  \u001b[39m 0.1.13\n",
      "\u001b[32m✔\u001b[39m \u001b[34mdials    \u001b[39m 0.0.9      \u001b[32m✔\u001b[39m \u001b[34mrsample  \u001b[39m 0.0.7 \n",
      "\u001b[32m✔\u001b[39m \u001b[34minfer    \u001b[39m 0.5.4      \u001b[32m✔\u001b[39m \u001b[34mtune     \u001b[39m 0.1.1 \n",
      "\u001b[32m✔\u001b[39m \u001b[34mmodeldata\u001b[39m 0.0.2      \u001b[32m✔\u001b[39m \u001b[34mworkflows\u001b[39m 0.2.0 \n",
      "\u001b[32m✔\u001b[39m \u001b[34mparsnip  \u001b[39m 0.1.3      \u001b[32m✔\u001b[39m \u001b[34myardstick\u001b[39m 0.0.7 \n",
      "\n",
      "Warning message:\n",
      "“package ‘broom’ was built under R version 4.0.2”\n",
      "Warning message:\n",
      "“package ‘dials’ was built under R version 4.0.2”\n",
      "Warning message:\n",
      "“package ‘infer’ was built under R version 4.0.3”\n",
      "Warning message:\n",
      "“package ‘modeldata’ was built under R version 4.0.1”\n",
      "Warning message:\n",
      "“package ‘parsnip’ was built under R version 4.0.2”\n",
      "Warning message:\n",
      "“package ‘recipes’ was built under R version 4.0.1”\n",
      "Warning message:\n",
      "“package ‘tune’ was built under R version 4.0.2”\n",
      "Warning message:\n",
      "“package ‘workflows’ was built under R version 4.0.2”\n",
      "Warning message:\n",
      "“package ‘yardstick’ was built under R version 4.0.2”\n",
      "── \u001b[1mConflicts\u001b[22m ───────────────────────────────────────── tidymodels_conflicts() ──\n",
      "\u001b[31m✖\u001b[39m \u001b[34mscales\u001b[39m::\u001b[32mdiscard()\u001b[39m masks \u001b[34mpurrr\u001b[39m::discard()\n",
      "\u001b[31m✖\u001b[39m \u001b[34mdplyr\u001b[39m::\u001b[32mfilter()\u001b[39m   masks \u001b[34mstats\u001b[39m::filter()\n",
      "\u001b[31m✖\u001b[39m \u001b[34mrecipes\u001b[39m::\u001b[32mfixed()\u001b[39m  masks \u001b[34mstringr\u001b[39m::fixed()\n",
      "\u001b[31m✖\u001b[39m \u001b[34mdplyr\u001b[39m::\u001b[32mlag()\u001b[39m      masks \u001b[34mstats\u001b[39m::lag()\n",
      "\u001b[31m✖\u001b[39m \u001b[34myardstick\u001b[39m::\u001b[32mspec()\u001b[39m masks \u001b[34mreadr\u001b[39m::spec()\n",
      "\u001b[31m✖\u001b[39m \u001b[34mrecipes\u001b[39m::\u001b[32mstep()\u001b[39m   masks \u001b[34mstats\u001b[39m::step()\n",
      "\n",
      "Loading required package: lattice\n",
      "\n",
      "\n",
      "Attaching package: ‘caret’\n",
      "\n",
      "\n",
      "The following objects are masked from ‘package:yardstick’:\n",
      "\n",
      "    precision, recall, sensitivity, specificity\n",
      "\n",
      "\n",
      "The following object is masked from ‘package:purrr’:\n",
      "\n",
      "    lift\n",
      "\n",
      "\n",
      "Parsed with column specification:\n",
      "cols(\n",
      "  mean_int_prof = \u001b[32mcol_double()\u001b[39m,\n",
      "  sd_int_prof = \u001b[32mcol_double()\u001b[39m,\n",
      "  kurt_int_prof = \u001b[32mcol_double()\u001b[39m,\n",
      "  skew_int_prof = \u001b[32mcol_double()\u001b[39m,\n",
      "  mean_curve = \u001b[32mcol_double()\u001b[39m,\n",
      "  sd_curve = \u001b[32mcol_double()\u001b[39m,\n",
      "  kurt_curve = \u001b[32mcol_double()\u001b[39m,\n",
      "  skew_curve = \u001b[32mcol_double()\u001b[39m,\n",
      "  class = \u001b[32mcol_double()\u001b[39m\n",
      ")\n",
      "\n"
     ]
    }
   ],
   "source": [
    "library(tidyverse)\n",
    "library(repr)\n",
    "library(readxl)\n",
    "library(tidymodels)\n",
    "\n",
    "# in order to underfit our data, we load a new library with the tools to do so, called caret\n",
    "library(caret)\n",
    "\n",
    "set.seed(2022)\n",
    "\n",
    "pulsar_data <- read_csv(\"https://raw.githubusercontent.com/glenren/dsci_100_group_24/main/HTRU_2.csv\", \n",
    "                        col_names = c(\"mean_int_prof\", \n",
    "                                      \"sd_int_prof\",\n",
    "                                      \"kurt_int_prof\",\n",
    "                                      \"skew_int_prof\",\n",
    "                                      \"mean_curve\",\n",
    "                                      \"sd_curve\",\n",
    "                                      \"kurt_curve\",\n",
    "                                      \"skew_curve\",\n",
    "                                      \"class\") ) %>%\n",
    "                        mutate(class = as_factor(class))"
   ]
  },
  {
   "cell_type": "markdown",
   "metadata": {},
   "source": [
    "#### Wrangling and Cleaning Data"
   ]
  },
  {
   "cell_type": "code",
   "execution_count": 4,
   "metadata": {},
   "outputs": [
    {
     "data": {
      "text/html": [
       "1639"
      ],
      "text/latex": [
       "1639"
      ],
      "text/markdown": [
       "1639"
      ],
      "text/plain": [
       "[1] 1639"
      ]
     },
     "metadata": {},
     "output_type": "display_data"
    },
    {
     "data": {
      "text/html": [
       "16259"
      ],
      "text/latex": [
       "16259"
      ],
      "text/markdown": [
       "16259"
      ],
      "text/plain": [
       "[1] 16259"
      ]
     },
     "metadata": {},
     "output_type": "display_data"
    }
   ],
   "source": [
    "set.seed(2022) \n",
    "\n",
    "# in order to address the skew in our data, we will use an overfitted or underfitted data set to perform our data analysis\n",
    "# we will perform exploratory data analyses on overfitted and underfitted data sets in order to determine which one has the highest accuracy\n",
    "\n",
    "pulsar <- which(pulsar_data$class==\"1\") # making a list of all the entries with Class = 1 (a.k.a. true pulsars)\n",
    "false <- which(pulsar_data$class==\"0\")# making a list of all the entries with Class = 0 (a.k.a. false pulsar candidates)\n",
    "length(pulsar)\n",
    "length(false)\n",
    "# here we can see how many observations of each category we have"
   ]
  },
  {
   "cell_type": "markdown",
   "metadata": {},
   "source": [
    "As we have 1,639 true pulsars, and 16,259 false candidates, we can see that our two classes are heavily imbalanced. We can solve this by refitting our data, either by 1. underfitting, which is to reduce the majority class to the size of the minority class, or 2. overfitting, which is to increased the minority class to the size of the majority class. Of course, there are drawbacks to both methods: underfitting leads to loss of information from the minority class, and the duplication of the minority class in overfitting can lead to our classifier seeming more accurate than it really is.\n",
    "\n",
    "For our dataset, since we have a majority class of 16,259 observations, we chose to go with underfitting since overfitting would require having to run code on 32,518 observations which would take a long time (we attempted this but it timed out in the knn tuning stage). An underfitted dataset would only have 3,278 observations—a lot faster."
   ]
  },
  {
   "cell_type": "code",
   "execution_count": 5,
   "metadata": {},
   "outputs": [
    {
     "data": {
      "text/html": [
       "3278"
      ],
      "text/latex": [
       "3278"
      ],
      "text/markdown": [
       "3278"
      ],
      "text/plain": [
       "[1] 3278"
      ]
     },
     "metadata": {},
     "output_type": "display_data"
    },
    {
     "data": {
      "text/plain": [
       " mean_int_prof      sd_int_prof    kurt_int_prof     skew_int_prof     \n",
       " Min.   :  5.812   Min.   :24.77   Min.   :-1.8760   Min.   :-1.59365  \n",
       " 1st Qu.: 54.268   1st Qu.:36.58   1st Qu.: 0.1814   1st Qu.: 0.06486  \n",
       " Median : 95.512   Median :43.69   Median : 0.6357   Median : 1.24321  \n",
       " Mean   : 86.459   Mean   :43.12   Mean   : 1.6690   Mean   : 7.95201  \n",
       " 3rd Qu.:117.441   3rd Qu.:49.21   3rd Qu.: 2.9610   3rd Qu.:11.60289  \n",
       " Max.   :192.617   Max.   :83.80   Max.   : 8.0695   Max.   :68.10162  \n",
       "   mean_curve          sd_curve        kurt_curve       skew_curve      \n",
       " Min.   :  0.2132   Min.   :  7.37   Min.   :-2.449   Min.   :  -1.938  \n",
       " 1st Qu.:  2.4971   1st Qu.: 17.09   1st Qu.: 1.654   1st Qu.:   1.701  \n",
       " Median :  6.8428   Median : 32.56   Median : 5.235   Median :  28.206  \n",
       " Mean   : 29.3071   Mean   : 39.86   Mean   : 5.864   Mean   :  67.867  \n",
       " 3rd Qu.: 39.5928   3rd Qu.: 62.06   3rd Qu.: 9.029   3rd Qu.:  97.495  \n",
       " Max.   :207.3027   Max.   :109.66   Max.   :34.540   Max.   :1191.001  \n",
       " class   \n",
       " 0:1639  \n",
       " 1:1639  \n",
       "         \n",
       "         \n",
       "         \n",
       "         "
      ]
     },
     "metadata": {},
     "output_type": "display_data"
    }
   ],
   "source": [
    "# create an underfitted data set\n",
    "down <- c(sample(false,length(pulsar)),pulsar)\n",
    "# here we are making a new vector combining the true pulsars and a new random sample of false candidates that has the same length as true pulsars\n",
    "length(down) # the total amount of observations we have in the \"down\" vector, we can see\n",
    "pulsar_down <- pulsar_data[down,] # create new pulsar_data dataframe including the indices in \"down\" (our underfitted data set)\n",
    "summary(pulsar_down) # we can see a summary of our new underfitted data set\n",
    "# looking at the class variable, we see we have an even amount of class = 0 and class = 1 (1639 of each!)"
   ]
  },
  {
   "cell_type": "code",
   "execution_count": 6,
   "metadata": {},
   "outputs": [],
   "source": [
    "set.seed(2022)\n",
    "\n",
    "# initial split for underfitted data\n",
    "# question: should we add split for unfitted data for comparison?\n",
    "\n",
    "pulsar_down_split <- initial_split(pulsar_down, prop = 0.75, strata = class)  \n",
    "pulsar_down_train <- training(pulsar_down_split)   \n",
    "pulsar_down_test <- testing(pulsar_down_split)"
   ]
  },
  {
   "cell_type": "code",
   "execution_count": 7,
   "metadata": {},
   "outputs": [
    {
     "data": {
      "text/plain": [
       "Data Recipe\n",
       "\n",
       "Inputs:\n",
       "\n",
       "      role #variables\n",
       "   outcome          1\n",
       " predictor          3\n",
       "\n",
       "Operations:\n",
       "\n",
       "Scaling for all_predictors()\n",
       "Centering for all_predictors()"
      ]
     },
     "metadata": {},
     "output_type": "display_data"
    }
   ],
   "source": [
    "set.seed(2022)\n",
    "\n",
    "# build recipe for underfitted data\n",
    "pulsar_down_recipe <- recipe(class ~ mean_int_prof + mean_curve + skew_curve,\n",
    "                       data = pulsar_down_train) %>%\n",
    "    step_scale(all_predictors()) %>%\n",
    "    step_center(all_predictors())\n",
    "pulsar_down_recipe\n",
    "\n",
    "# create cross-validation for overfitted and underfitted data\n",
    "pulsar_down_vfold <- vfold_cv(pulsar_down_train, v = 5, strata = class)\n",
    "\n",
    "# build model \n",
    "knn_tune <- nearest_neighbor(weight_func = 'rectangular', neighbors = tune()) %>%\n",
    "    set_engine('kknn') %>%\n",
    "    set_mode('classification') "
   ]
  },
  {
   "cell_type": "code",
   "execution_count": 8,
   "metadata": {},
   "outputs": [],
   "source": [
    "set.seed(2022)\n",
    "# underfitted data set results\n",
    "\n",
    "knn_down_results <- workflow() %>%\n",
    "    add_recipe(pulsar_down_recipe) %>%\n",
    "    add_model(knn_tune) %>%\n",
    "    tune_grid(resamples = pulsar_down_vfold, grid = 10) %>%\n",
    "    collect_metrics"
   ]
  },
  {
   "cell_type": "code",
   "execution_count": 9,
   "metadata": {},
   "outputs": [
    {
     "data": {
      "image/png": "[encoded data removed]",
      "text/plain": [
       "plot without title"
      ]
     },
     "metadata": {
      "image/png": {
       "height": 420,
       "width": 420
      }
     },
     "output_type": "display_data"
    }
   ],
   "source": [
    "# evaluating classification model with underfitted data sets\n",
    "\n",
    "accuracies_down <- knn_down_results %>%\n",
    "    filter(.metric == \"accuracy\")\n",
    "cross_val_plot_down <- ggplot(accuracies_down, aes(x= neighbors, y=mean)) +\n",
    "    geom_point() +\n",
    "    geom_line() +\n",
    "    labs(x = \"Neighbors\", y = \"Accuracy Estimate\") +\n",
    "    scale_x_continuous(breaks = seq(0, 14, by = 1)) +  # adjusting the x-axis\n",
    "    scale_y_continuous(limits = c(0.4, 1.0)) # adjusting the y-axis\n",
    "cross_val_plot_down"
   ]
  },
  {
   "cell_type": "code",
   "execution_count": 10,
   "metadata": {},
   "outputs": [
    {
     "data": {
      "text/plain": [
       "══ Workflow ════════════════════════════════════════════════════════════════════\n",
       "\u001b[3mPreprocessor:\u001b[23m Recipe\n",
       "\u001b[3mModel:\u001b[23m nearest_neighbor()\n",
       "\n",
       "── Preprocessor ────────────────────────────────────────────────────────────────\n",
       "2 Recipe Steps\n",
       "\n",
       "● step_scale()\n",
       "● step_center()\n",
       "\n",
       "── Model ───────────────────────────────────────────────────────────────────────\n",
       "K-Nearest Neighbor Model Specification (classification)\n",
       "\n",
       "Main Arguments:\n",
       "  neighbors = 12\n",
       "  weight_func = rectangular\n",
       "\n",
       "Computational engine: kknn \n"
      ]
     },
     "metadata": {},
     "output_type": "display_data"
    }
   ],
   "source": [
    "set.seed(2022)\n",
    "# used underfitted data set because overfitted data set timed out\n",
    "\n",
    "knn_spec_down <- nearest_neighbor(weight_func = 'rectangular', neighbors = 12) %>%\n",
    "    set_engine('kknn') %>%\n",
    "    set_mode('classification')\n",
    "\n",
    "pulsar_down_workflow <- workflow() %>%\n",
    "    add_recipe(pulsar_down_recipe) %>%\n",
    "    add_model(knn_spec_down)\n",
    "pulsar_down_workflow"
   ]
  },
  {
   "cell_type": "code",
   "execution_count": 11,
   "metadata": {},
   "outputs": [
    {
     "data": {
      "text/html": [
       "<table>\n",
       "<caption>A tibble: 2 × 3</caption>\n",
       "<thead>\n",
       "\t<tr><th scope=col>.metric</th><th scope=col>.estimator</th><th scope=col>.estimate</th></tr>\n",
       "\t<tr><th scope=col>&lt;chr&gt;</th><th scope=col>&lt;chr&gt;</th><th scope=col>&lt;dbl&gt;</th></tr>\n",
       "</thead>\n",
       "<tbody>\n",
       "\t<tr><td>accuracy</td><td>binary</td><td>0.9107579</td></tr>\n",
       "\t<tr><td>kap     </td><td>binary</td><td>0.8215159</td></tr>\n",
       "</tbody>\n",
       "</table>\n"
      ],
      "text/latex": [
       "A tibble: 2 × 3\n",
       "\\begin{tabular}{lll}\n",
       " .metric & .estimator & .estimate\\\\\n",
       " <chr> & <chr> & <dbl>\\\\\n",
       "\\hline\n",
       "\t accuracy & binary & 0.9107579\\\\\n",
       "\t kap      & binary & 0.8215159\\\\\n",
       "\\end{tabular}\n"
      ],
      "text/markdown": [
       "\n",
       "A tibble: 2 × 3\n",
       "\n",
       "| .metric &lt;chr&gt; | .estimator &lt;chr&gt; | .estimate &lt;dbl&gt; |\n",
       "|---|---|---|\n",
       "| accuracy | binary | 0.9107579 |\n",
       "| kap      | binary | 0.8215159 |\n",
       "\n"
      ],
      "text/plain": [
       "  .metric  .estimator .estimate\n",
       "1 accuracy binary     0.9107579\n",
       "2 kap      binary     0.8215159"
      ]
     },
     "metadata": {},
     "output_type": "display_data"
    },
    {
     "name": "stderr",
     "output_type": "stream",
     "text": [
      "`summarise()` ungrouping output (override with `.groups` argument)\n",
      "\n"
     ]
    },
    {
     "data": {
      "text/html": [
       "<table>\n",
       "<caption>A tibble: 2 × 3</caption>\n",
       "<thead>\n",
       "\t<tr><th scope=col>class</th><th scope=col>n</th><th scope=col>percent</th></tr>\n",
       "\t<tr><th scope=col>&lt;fct&gt;</th><th scope=col>&lt;int&gt;</th><th scope=col>&lt;dbl&gt;</th></tr>\n",
       "</thead>\n",
       "<tbody>\n",
       "\t<tr><td>0</td><td>1230</td><td>50</td></tr>\n",
       "\t<tr><td>1</td><td>1230</td><td>50</td></tr>\n",
       "</tbody>\n",
       "</table>\n"
      ],
      "text/latex": [
       "A tibble: 2 × 3\n",
       "\\begin{tabular}{lll}\n",
       " class & n & percent\\\\\n",
       " <fct> & <int> & <dbl>\\\\\n",
       "\\hline\n",
       "\t 0 & 1230 & 50\\\\\n",
       "\t 1 & 1230 & 50\\\\\n",
       "\\end{tabular}\n"
      ],
      "text/markdown": [
       "\n",
       "A tibble: 2 × 3\n",
       "\n",
       "| class &lt;fct&gt; | n &lt;int&gt; | percent &lt;dbl&gt; |\n",
       "|---|---|---|\n",
       "| 0 | 1230 | 50 |\n",
       "| 1 | 1230 | 50 |\n",
       "\n"
      ],
      "text/plain": [
       "  class n    percent\n",
       "1 0     1230 50     \n",
       "2 1     1230 50     "
      ]
     },
     "metadata": {},
     "output_type": "display_data"
    }
   ],
   "source": [
    "set.seed(2022)\n",
    "\n",
    "# fitting data to workflow\n",
    "pulsar_down_fit <- pulsar_down_workflow %>%\n",
    "    fit(data = pulsar_down_train)\n",
    "\n",
    "pulsar_down_summary <- pulsar_down_fit %>%\n",
    "    predict(pulsar_down_test) %>%\n",
    "    bind_cols(pulsar_down_test) %>%\n",
    "    metrics(truth = class, estimate = .pred_class)\n",
    "pulsar_down_summary\n",
    "\n",
    "#check majority class to compare\n",
    "pulsar_down_proportions <- pulsar_down_train %>%\n",
    "                      group_by(class) %>%\n",
    "                      summarize(n = n()) %>%\n",
    "                      mutate(percent = 100*n/nrow(pulsar_down_train))\n",
    "pulsar_down_proportions"
   ]
  },
  {
   "cell_type": "markdown",
   "metadata": {},
   "source": [
    "#### Summary of the data set that is relevant for exploratory data analysis related to the planned analysis"
   ]
  },
  {
   "cell_type": "code",
   "execution_count": null,
   "metadata": {},
   "outputs": [],
   "source": []
  },
  {
   "cell_type": "markdown",
   "metadata": {},
   "source": [
    "#### Visualization of the dataset that is relevant for exploratory data analysis related to the planned analysis"
   ]
  },
  {
   "cell_type": "markdown",
   "metadata": {},
   "source": [
    "## Perform the data analysis\n",
    "\n",
    "## Visualization of the analysis "
   ]
  },
  {
   "cell_type": "markdown",
   "metadata": {},
   "source": [
    "### Discussion (Helena)"
   ]
  }
 ],
 "metadata": {
  "kernelspec": {
   "display_name": "R",
   "language": "R",
   "name": "ir"
  },
  "language_info": {
   "codemirror_mode": "r",
   "file_extension": ".r",
   "mimetype": "text/x-r-source",
   "name": "R",
   "pygments_lexer": "r",
   "version": "4.0.0"
  }
 },
 "nbformat": 4,
 "nbformat_minor": 4
}
