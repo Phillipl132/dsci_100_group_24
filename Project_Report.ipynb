{
 "cells": [
  {
   "cell_type": "markdown",
   "metadata": {},
   "source": [
    "# Pulsar Classification Project Report\n",
    "###### By Bernie Leung, Phillip Li, Glen Ren, and Helena Tremblay\n",
    "\n",
    "### Introduction\n",
    "Pulsars belong to a group of celestial objects called neutron stars, which are formed when suns collapse. When a sun has sufficient hydrogen fuel, it counteracts external gravitational force by creating pressure through constant nuclear reaction, thus reaching hydrostatic equilibrium. As these massive stars run out of hydrogen fuel, the core is no longer able to generate enough force to keep the celestial body from internally collapsing. The force from the collapse merges every proton and electron within it into a neutron (NASA, 2014).\n",
    "Due to pulsars' nature of emitting rhythmic pulses of strong radiation because of their electromagnetism dipoles, they release light in regular intervals and look like they are twinkling when observed from earth. Pulsars are a main research interest within the scientific community because of their potential of helping us learn about the inter-stellar medium, states of matter, and space-time (Agarwal et al., 2020)\n",
    "\n",
    "For this project, we will be using the HTRU2 dataset, with samples of pulsar candidates collected during the High Time Resolution Universe Survey, which “intends to be an all-sky survey for pulsars and short-duration radio transients, with a strong focus on the lower Galactic latitudes, [where the higher frequency resolution for the negation of interstellar dispersion are made used the most]” (Keith, 2010).\n",
    "In this dataset, two main attributes are used to distinguish between the positive and negative class. The first is the Integrated Pulse Profile of the pulsar candidate, which is \"an array of continuous variables that describe a longitude-resolved version of the signal that has been averaged in both time and frequency\" (Lyon, 2016a). The second attribute is the DM-SNR curve of the candidate, which is the curve that describes the relationship between the density of electrons between the observer and observed candidate, known as the dispersion measure, and the candidate's signal to noise ratio (Lyon, 2016a). For each of the two attributes of a candidate, the following four statistical features are taken, generating eight total variable columns for each candidate:\n",
    "- Mean\n",
    "- Standard Deviation\n",
    "- Skewness\n",
    "- Excess Kurtosis\n",
    "\n",
    "Our predictive question is to classify the pulsar candidates as either real pulsars or false candidates caused by RFI and noise. A binary classification system will be used to represent whether the pulsar is real or not. With 16,259 false candidates and 1,639 real pulsars that are checked by humans, the real pulsars are a minority positive class, and false candidates are the majority negative class in this dataset. The class labels used are 0 (false candidate) and 1 (real pulsar). The data itself is in two formats: CSV and ARFF. Each row corresponds to a candidate, each column a variable with the last column being the candidate's class.\n"
   ]
  },
  {
   "cell_type": "markdown",
   "metadata": {},
   "source": [
    "### Methods & Results\n",
    "First, we will load our libraries and our data from the web.\n",
    "\n",
    "Since our data has improperly formatted column names, we will give new names to each column, in the proper style of lowercase and underscores.\n",
    "We must also change the \"class\" column into a factor."
   ]
  },
  {
   "cell_type": "code",
   "execution_count": 27,
   "metadata": {},
   "outputs": [
    {
     "name": "stderr",
     "output_type": "stream",
     "text": [
      "Parsed with column specification:\n",
      "cols(\n",
      "  mean_int_prof = \u001b[32mcol_double()\u001b[39m,\n",
      "  sd_int_prof = \u001b[32mcol_double()\u001b[39m,\n",
      "  kurt_int_prof = \u001b[32mcol_double()\u001b[39m,\n",
      "  skew_int_prof = \u001b[32mcol_double()\u001b[39m,\n",
      "  mean_curve = \u001b[32mcol_double()\u001b[39m,\n",
      "  sd_curve = \u001b[32mcol_double()\u001b[39m,\n",
      "  kurt_curve = \u001b[32mcol_double()\u001b[39m,\n",
      "  skew_curve = \u001b[32mcol_double()\u001b[39m,\n",
      "  class = \u001b[32mcol_double()\u001b[39m\n",
      ")\n",
      "\n"
     ]
    },
    {
     "data": {
      "text/html": [
       "<table>\n",
       "<caption>A tibble: 6 × 9</caption>\n",
       "<thead>\n",
       "\t<tr><th scope=col>mean_int_prof</th><th scope=col>sd_int_prof</th><th scope=col>kurt_int_prof</th><th scope=col>skew_int_prof</th><th scope=col>mean_curve</th><th scope=col>sd_curve</th><th scope=col>kurt_curve</th><th scope=col>skew_curve</th><th scope=col>class</th></tr>\n",
       "\t<tr><th scope=col>&lt;dbl&gt;</th><th scope=col>&lt;dbl&gt;</th><th scope=col>&lt;dbl&gt;</th><th scope=col>&lt;dbl&gt;</th><th scope=col>&lt;dbl&gt;</th><th scope=col>&lt;dbl&gt;</th><th scope=col>&lt;dbl&gt;</th><th scope=col>&lt;dbl&gt;</th><th scope=col>&lt;fct&gt;</th></tr>\n",
       "</thead>\n",
       "<tbody>\n",
       "\t<tr><td>140.56250</td><td>55.68378</td><td>-0.23457141</td><td>-0.6996484</td><td>3.199833</td><td>19.11043</td><td> 7.975532</td><td> 74.24222</td><td>0</td></tr>\n",
       "\t<tr><td>102.50781</td><td>58.88243</td><td> 0.46531815</td><td>-0.5150879</td><td>1.677258</td><td>14.86015</td><td>10.576487</td><td>127.39358</td><td>0</td></tr>\n",
       "\t<tr><td>103.01562</td><td>39.34165</td><td> 0.32332837</td><td> 1.0511644</td><td>3.121237</td><td>21.74467</td><td> 7.735822</td><td> 63.17191</td><td>0</td></tr>\n",
       "\t<tr><td>136.75000</td><td>57.17845</td><td>-0.06841464</td><td>-0.6362384</td><td>3.642977</td><td>20.95928</td><td> 6.896499</td><td> 53.59366</td><td>0</td></tr>\n",
       "\t<tr><td> 88.72656</td><td>40.67223</td><td> 0.60086608</td><td> 1.1234917</td><td>1.178930</td><td>11.46872</td><td>14.269573</td><td>252.56731</td><td>0</td></tr>\n",
       "\t<tr><td> 93.57031</td><td>46.69811</td><td> 0.53190485</td><td> 0.4167211</td><td>1.636288</td><td>14.54507</td><td>10.621748</td><td>131.39400</td><td>0</td></tr>\n",
       "</tbody>\n",
       "</table>\n"
      ],
      "text/latex": [
       "A tibble: 6 × 9\n",
       "\\begin{tabular}{lllllllll}\n",
       " mean\\_int\\_prof & sd\\_int\\_prof & kurt\\_int\\_prof & skew\\_int\\_prof & mean\\_curve & sd\\_curve & kurt\\_curve & skew\\_curve & class\\\\\n",
       " <dbl> & <dbl> & <dbl> & <dbl> & <dbl> & <dbl> & <dbl> & <dbl> & <fct>\\\\\n",
       "\\hline\n",
       "\t 140.56250 & 55.68378 & -0.23457141 & -0.6996484 & 3.199833 & 19.11043 &  7.975532 &  74.24222 & 0\\\\\n",
       "\t 102.50781 & 58.88243 &  0.46531815 & -0.5150879 & 1.677258 & 14.86015 & 10.576487 & 127.39358 & 0\\\\\n",
       "\t 103.01562 & 39.34165 &  0.32332837 &  1.0511644 & 3.121237 & 21.74467 &  7.735822 &  63.17191 & 0\\\\\n",
       "\t 136.75000 & 57.17845 & -0.06841464 & -0.6362384 & 3.642977 & 20.95928 &  6.896499 &  53.59366 & 0\\\\\n",
       "\t  88.72656 & 40.67223 &  0.60086608 &  1.1234917 & 1.178930 & 11.46872 & 14.269573 & 252.56731 & 0\\\\\n",
       "\t  93.57031 & 46.69811 &  0.53190485 &  0.4167211 & 1.636288 & 14.54507 & 10.621748 & 131.39400 & 0\\\\\n",
       "\\end{tabular}\n"
      ],
      "text/markdown": [
       "\n",
       "A tibble: 6 × 9\n",
       "\n",
       "| mean_int_prof &lt;dbl&gt; | sd_int_prof &lt;dbl&gt; | kurt_int_prof &lt;dbl&gt; | skew_int_prof &lt;dbl&gt; | mean_curve &lt;dbl&gt; | sd_curve &lt;dbl&gt; | kurt_curve &lt;dbl&gt; | skew_curve &lt;dbl&gt; | class &lt;fct&gt; |\n",
       "|---|---|---|---|---|---|---|---|---|\n",
       "| 140.56250 | 55.68378 | -0.23457141 | -0.6996484 | 3.199833 | 19.11043 |  7.975532 |  74.24222 | 0 |\n",
       "| 102.50781 | 58.88243 |  0.46531815 | -0.5150879 | 1.677258 | 14.86015 | 10.576487 | 127.39358 | 0 |\n",
       "| 103.01562 | 39.34165 |  0.32332837 |  1.0511644 | 3.121237 | 21.74467 |  7.735822 |  63.17191 | 0 |\n",
       "| 136.75000 | 57.17845 | -0.06841464 | -0.6362384 | 3.642977 | 20.95928 |  6.896499 |  53.59366 | 0 |\n",
       "|  88.72656 | 40.67223 |  0.60086608 |  1.1234917 | 1.178930 | 11.46872 | 14.269573 | 252.56731 | 0 |\n",
       "|  93.57031 | 46.69811 |  0.53190485 |  0.4167211 | 1.636288 | 14.54507 | 10.621748 | 131.39400 | 0 |\n",
       "\n"
      ],
      "text/plain": [
       "  mean_int_prof sd_int_prof kurt_int_prof skew_int_prof mean_curve sd_curve\n",
       "1 140.56250     55.68378    -0.23457141   -0.6996484    3.199833   19.11043\n",
       "2 102.50781     58.88243     0.46531815   -0.5150879    1.677258   14.86015\n",
       "3 103.01562     39.34165     0.32332837    1.0511644    3.121237   21.74467\n",
       "4 136.75000     57.17845    -0.06841464   -0.6362384    3.642977   20.95928\n",
       "5  88.72656     40.67223     0.60086608    1.1234917    1.178930   11.46872\n",
       "6  93.57031     46.69811     0.53190485    0.4167211    1.636288   14.54507\n",
       "  kurt_curve skew_curve class\n",
       "1  7.975532   74.24222  0    \n",
       "2 10.576487  127.39358  0    \n",
       "3  7.735822   63.17191  0    \n",
       "4  6.896499   53.59366  0    \n",
       "5 14.269573  252.56731  0    \n",
       "6 10.621748  131.39400  0    "
      ]
     },
     "metadata": {},
     "output_type": "display_data"
    }
   ],
   "source": [
    "library(tidyverse)\n",
    "library(repr)\n",
    "library(readxl)\n",
    "library(tidymodels)\n",
    "library(knitr)\n",
    "\n",
    "pulsar_data <- read_csv(\"https://raw.githubusercontent.com/glenren/dsci_100_group_24/main/HTRU_2.csv\", \n",
    "                        col_names = c(\"mean_int_prof\", # mean of the integrated profile\n",
    "                                      \"sd_int_prof\", # standard deviation of the integrated profile\n",
    "                                      \"kurt_int_prof\", # excess kurtosis of the integrated profile\n",
    "                                      \"skew_int_prof\", # skewness of the integrated profile\n",
    "                                      \"mean_curve\", # mean of the DM-SNR curve\n",
    "                                      \"sd_curve\", # standard deviation of the DM-SNR curve\n",
    "                                      \"kurt_curve\", # excess kurtosis of the DM-SNR curve\n",
    "                                      \"skew_curve\", # skewness of the DM-SNR curve\n",
    "                                      \"class\")) %>% # class = 1 if true pulsar, 0 if false candidate\n",
    "                        mutate(class = as_factor(class))\n",
    "\n",
    "# preview our data by showing the first six observations\n",
    "head(pulsar_data)"
   ]
  },
  {
   "cell_type": "markdown",
   "metadata": {},
   "source": [
    "_Figure 1. First six observations of pulsar_data_"
   ]
  },
  {
   "cell_type": "markdown",
   "metadata": {},
   "source": [
    "Now that our data is looking clean, we can explore it. In order to make a classifier, we must decide which predictors to use. Our method of choice is to create a summary data set by taking the mean value of each variable for both classes, and finding the differences in each variable between the two classes."
   ]
  },
  {
   "cell_type": "code",
   "execution_count": 26,
   "metadata": {},
   "outputs": [
    {
     "name": "stderr",
     "output_type": "stream",
     "text": [
      "`summarise()` ungrouping output (override with `.groups` argument)\n",
      "\n"
     ]
    },
    {
     "data": {
      "text/html": [
       "<table>\n",
       "<caption>A tibble: 2 × 9</caption>\n",
       "<thead>\n",
       "\t<tr><th scope=col>class</th><th scope=col>mean_int_prof</th><th scope=col>sd_int_prof</th><th scope=col>kurt_int_prof</th><th scope=col>skew_int_prof</th><th scope=col>mean_curve</th><th scope=col>sd_curve</th><th scope=col>kurt_curve</th><th scope=col>skew_curve</th></tr>\n",
       "\t<tr><th scope=col>&lt;fct&gt;</th><th scope=col>&lt;dbl&gt;</th><th scope=col>&lt;dbl&gt;</th><th scope=col>&lt;dbl&gt;</th><th scope=col>&lt;dbl&gt;</th><th scope=col>&lt;dbl&gt;</th><th scope=col>&lt;dbl&gt;</th><th scope=col>&lt;dbl&gt;</th><th scope=col>&lt;dbl&gt;</th></tr>\n",
       "</thead>\n",
       "<tbody>\n",
       "\t<tr><td>0</td><td>116.56273</td><td>47.33974</td><td>0.2104401</td><td> 0.380844</td><td> 8.863258</td><td>23.28798</td><td>8.862674</td><td>113.62034</td></tr>\n",
       "\t<tr><td>1</td><td> 56.69061</td><td>38.71060</td><td>3.1306554</td><td>15.553576</td><td>49.825995</td><td>56.46896</td><td>2.757069</td><td> 17.93173</td></tr>\n",
       "</tbody>\n",
       "</table>\n"
      ],
      "text/latex": [
       "A tibble: 2 × 9\n",
       "\\begin{tabular}{lllllllll}\n",
       " class & mean\\_int\\_prof & sd\\_int\\_prof & kurt\\_int\\_prof & skew\\_int\\_prof & mean\\_curve & sd\\_curve & kurt\\_curve & skew\\_curve\\\\\n",
       " <fct> & <dbl> & <dbl> & <dbl> & <dbl> & <dbl> & <dbl> & <dbl> & <dbl>\\\\\n",
       "\\hline\n",
       "\t 0 & 116.56273 & 47.33974 & 0.2104401 &  0.380844 &  8.863258 & 23.28798 & 8.862674 & 113.62034\\\\\n",
       "\t 1 &  56.69061 & 38.71060 & 3.1306554 & 15.553576 & 49.825995 & 56.46896 & 2.757069 &  17.93173\\\\\n",
       "\\end{tabular}\n"
      ],
      "text/markdown": [
       "\n",
       "A tibble: 2 × 9\n",
       "\n",
       "| class &lt;fct&gt; | mean_int_prof &lt;dbl&gt; | sd_int_prof &lt;dbl&gt; | kurt_int_prof &lt;dbl&gt; | skew_int_prof &lt;dbl&gt; | mean_curve &lt;dbl&gt; | sd_curve &lt;dbl&gt; | kurt_curve &lt;dbl&gt; | skew_curve &lt;dbl&gt; |\n",
       "|---|---|---|---|---|---|---|---|---|\n",
       "| 0 | 116.56273 | 47.33974 | 0.2104401 |  0.380844 |  8.863258 | 23.28798 | 8.862674 | 113.62034 |\n",
       "| 1 |  56.69061 | 38.71060 | 3.1306554 | 15.553576 | 49.825995 | 56.46896 | 2.757069 |  17.93173 |\n",
       "\n"
      ],
      "text/plain": [
       "  class mean_int_prof sd_int_prof kurt_int_prof skew_int_prof mean_curve\n",
       "1 0     116.56273     47.33974    0.2104401      0.380844      8.863258 \n",
       "2 1      56.69061     38.71060    3.1306554     15.553576     49.825995 \n",
       "  sd_curve kurt_curve skew_curve\n",
       "1 23.28798 8.862674   113.62034 \n",
       "2 56.46896 2.757069    17.93173 "
      ]
     },
     "metadata": {},
     "output_type": "display_data"
    }
   ],
   "source": [
    "# summary data set\n",
    "pulsar_averages <- pulsar_data %>%\n",
    "    group_by(class) %>%\n",
    "    summarize(across(mean_int_prof:skew_curve, mean))\n",
    "\n",
    "pulsar_averages"
   ]
  },
  {
   "cell_type": "markdown",
   "metadata": {},
   "source": [
    "_Figure 2. Variable Averages of pulsar_data based on class._"
   ]
  },
  {
   "cell_type": "markdown",
   "metadata": {},
   "source": [
    "In creating our summary data set we grouped the data points by class and applied the mean function to each of the variable columns for both classes using the across function (figure 2). We then use a bar graph to represent the results found. However, because the summary table generated is not tidy (variables are each in a separate column instead of organized into a single column), we first have to create a dataframe that contains a tidied version of the summary table before passing that dataframe to the ggplot function."
   ]
  },
  {
   "cell_type": "code",
   "execution_count": 29,
   "metadata": {},
   "outputs": [
    {
     "data": {
      "image/png": "[encoded data removed]",
      "text/plain": [
       "plot without title"
      ]
     },
     "metadata": {
      "image/png": {
       "height": 600,
       "width": 1200
      }
     },
     "output_type": "display_data"
    }
   ],
   "source": [
    "options(repr.plot.width = 20, repr.plot.height = 10) \n",
    "\n",
    "tidy_pulsar_averages <- pulsar_averages %>%\n",
    "    pivot_longer(cols = mean_int_prof:skew_curve, # places all variables in a single column\n",
    "                names_to = \"variable\",\n",
    "                values_to = \"mean_value\")\n",
    "\n",
    "averages_viz <- tidy_pulsar_averages %>%\n",
    "    ggplot(aes(x = variable, y = mean_value, fill = class)) +\n",
    "    geom_bar(stat = \"Identity\", position = \"dodge\") +\n",
    "    labs(x = \"Variable\", y = \"Mean value\", fill = \"Class\") +\n",
    "    theme(text = element_text(size=20)) +\n",
    "    scale_fill_discrete(name = \"Class\", labels = c(\"noise\", \"pulsar\")) +\n",
    "    ggtitle(\"Figure 3. Mean variable values by class\")\n",
    "\n",
    "averages_viz"
   ]
  },
  {
   "cell_type": "markdown",
   "metadata": {},
   "source": [
    "We can see that the mean values for _mean_curve_, _mean_int_prof_, _sd_curve_, and _skew_curve_ seem to have the steepest difference between pulsar and non-pulsar observations (Figure 3). However, the data isn't scaled, which means that data points that are measured on a higher order of magnitude due to their unit of measurement might have a higher raw difference, but a lower relative difference than other variables. In order to see which variables vary the most between classes, we will examine the relative differences in value. \n",
    "\n",
    "Next, we'll take a look at the relative differences in value between the two classes for each variable to find out which variables vary the most between classes. To do this, we take our original pulsar_averages summary table (the untidy version) and find the percentage differences between the two rows. Like the averages table (figure 2), the differences table is visualized by a bar graph (figure 5), with the data first being tidied (figure 4)."
   ]
  },
  {
   "cell_type": "code",
   "execution_count": 32,
   "metadata": {},
   "outputs": [
    {
     "name": "stderr",
     "output_type": "stream",
     "text": [
      "Warning message in Ops.factor(left, right):\n",
      "“‘-’ not meaningful for factors”\n",
      "Warning message in Ops.factor(left, right):\n",
      "“‘/’ not meaningful for factors”\n"
     ]
    },
    {
     "data": {
      "text/html": [
       "<table>\n",
       "<caption>A data.frame: 1 × 9</caption>\n",
       "<thead>\n",
       "\t<tr><th scope=col>class</th><th scope=col>mean_int_prof</th><th scope=col>sd_int_prof</th><th scope=col>kurt_int_prof</th><th scope=col>skew_int_prof</th><th scope=col>mean_curve</th><th scope=col>sd_curve</th><th scope=col>kurt_curve</th><th scope=col>skew_curve</th></tr>\n",
       "\t<tr><th scope=col>&lt;dbl&gt;</th><th scope=col>&lt;dbl&gt;</th><th scope=col>&lt;dbl&gt;</th><th scope=col>&lt;dbl&gt;</th><th scope=col>&lt;dbl&gt;</th><th scope=col>&lt;dbl&gt;</th><th scope=col>&lt;dbl&gt;</th><th scope=col>&lt;dbl&gt;</th><th scope=col>&lt;dbl&gt;</th></tr>\n",
       "</thead>\n",
       "<tbody>\n",
       "\t<tr><td>NA</td><td>51.36472</td><td>18.22812</td><td>1387.671</td><td>3983.976</td><td>462.1634</td><td>142.4811</td><td>68.89123</td><td>84.21785</td></tr>\n",
       "</tbody>\n",
       "</table>\n"
      ],
      "text/latex": [
       "A data.frame: 1 × 9\n",
       "\\begin{tabular}{lllllllll}\n",
       " class & mean\\_int\\_prof & sd\\_int\\_prof & kurt\\_int\\_prof & skew\\_int\\_prof & mean\\_curve & sd\\_curve & kurt\\_curve & skew\\_curve\\\\\n",
       " <dbl> & <dbl> & <dbl> & <dbl> & <dbl> & <dbl> & <dbl> & <dbl> & <dbl>\\\\\n",
       "\\hline\n",
       "\t NA & 51.36472 & 18.22812 & 1387.671 & 3983.976 & 462.1634 & 142.4811 & 68.89123 & 84.21785\\\\\n",
       "\\end{tabular}\n"
      ],
      "text/markdown": [
       "\n",
       "A data.frame: 1 × 9\n",
       "\n",
       "| class &lt;dbl&gt; | mean_int_prof &lt;dbl&gt; | sd_int_prof &lt;dbl&gt; | kurt_int_prof &lt;dbl&gt; | skew_int_prof &lt;dbl&gt; | mean_curve &lt;dbl&gt; | sd_curve &lt;dbl&gt; | kurt_curve &lt;dbl&gt; | skew_curve &lt;dbl&gt; |\n",
       "|---|---|---|---|---|---|---|---|---|\n",
       "| NA | 51.36472 | 18.22812 | 1387.671 | 3983.976 | 462.1634 | 142.4811 | 68.89123 | 84.21785 |\n",
       "\n"
      ],
      "text/plain": [
       "  class mean_int_prof sd_int_prof kurt_int_prof skew_int_prof mean_curve\n",
       "1 NA    51.36472      18.22812    1387.671      3983.976      462.1634  \n",
       "  sd_curve kurt_curve skew_curve\n",
       "1 142.4811 68.89123   84.21785  "
      ]
     },
     "metadata": {},
     "output_type": "display_data"
    }
   ],
   "source": [
    "pulsar_differences <- slice(pulsar_averages, 2) - slice(pulsar_averages, 1) #raw difference in values\n",
    "\n",
    "pulsar_percentage_difference <- abs(pulsar_differences/slice(pulsar_averages, 1)*100) #percentage difference - \n",
    "                                                                                      #absolute value taken for easier comparison\n",
    "pulsar_percentage_difference"
   ]
  },
  {
   "cell_type": "markdown",
   "metadata": {},
   "source": [
    "_Figure 4. Difference (percentage) between average variable values of the two classes of pulsar_data._"
   ]
  },
  {
   "cell_type": "code",
   "execution_count": 33,
   "metadata": {},
   "outputs": [
    {
     "data": {
      "image/png": "[encoded data removed]",
      "text/plain": [
       "plot without title"
      ]
     },
     "metadata": {
      "image/png": {
       "height": 600,
       "width": 1200
      }
     },
     "output_type": "display_data"
    }
   ],
   "source": [
    "tidy_percentage_diff <- pulsar_percentage_difference %>%\n",
    "    pivot_longer(cols = mean_int_prof:skew_curve,\n",
    "                names_to = \"variable\",\n",
    "                values_to = \"pct_diff\")\n",
    "\n",
    "percentage_diff_viz <- tidy_percentage_diff %>%\n",
    "    ggplot(aes(x = variable, y = pct_diff)) +\n",
    "    geom_bar(stat = \"Identity\", fill = \"coral2\") +\n",
    "    labs(x = \"Variable\", y = \"Percent difference (%)\") +\n",
    "    theme(text = element_text(size=20)) +\n",
    "    ggtitle(\"Figure 5. Percentage difference in mean values between non-pulsar and pulsars\")\n",
    "    \n",
    "percentage_diff_viz"
   ]
  },
  {
   "cell_type": "markdown",
   "metadata": {},
   "source": [
    "The three variables with highest values from Figure 5 (_kurt_int_prof_, _mean_curve_ and _skew_int_prof_) will then be used as predictors for our data analysis. _kurt_int_prof_ indicates the excess kurtosis of the integrated profile, _skew_int_prof_ indicates the skewness of the integrated profile, and _mean_curve_ indicates the mean of the DM-SNR curve.\n",
    "\n",
    "However, before we can start our classifier, we must check how our data is distributed in terms of each class. This is to avoid class imbalance, which will interfere with our classifier's accuracy."
   ]
  },
  {
   "cell_type": "code",
   "execution_count": 35,
   "metadata": {},
   "outputs": [
    {
     "data": {
      "text/html": [
       "1639"
      ],
      "text/latex": [
       "1639"
      ],
      "text/markdown": [
       "1639"
      ],
      "text/plain": [
       "[1] 1639"
      ]
     },
     "metadata": {},
     "output_type": "display_data"
    },
    {
     "data": {
      "text/html": [
       "16259"
      ],
      "text/latex": [
       "16259"
      ],
      "text/markdown": [
       "16259"
      ],
      "text/plain": [
       "[1] 16259"
      ]
     },
     "metadata": {},
     "output_type": "display_data"
    }
   ],
   "source": [
    "set.seed(2022) \n",
    "\n",
    "pulsar <- which(pulsar_data$class==\"1\") # making a list of all the entries with Class = 1 (a.k.a. true pulsars)\n",
    "false <- which(pulsar_data$class==\"0\")# making a list of all the entries with Class = 0 (a.k.a. false pulsar candidates)\n",
    "\n",
    "# count how many observations of each category we have\n",
    "length(pulsar)\n",
    "length(false)"
   ]
  },
  {
   "cell_type": "markdown",
   "metadata": {},
   "source": [
    "As we have 1,639 true pulsars, and 16,259 false candidates, we can see that our two classes are heavily imbalanced. We can solve this by refitting our data, either by 1.) underfitting or downsampling, which is to reduce the majority class to the size of the minority class, or 2.) overfitting or upsampling, which is to increase the minority class to the size of the majority class. Of course, there are drawbacks to both methods: underfitting leads to loss of information from the minority class, and the duplication of the minority class in overfitting can lead to our classifier seeming more accurate than it really is.\n",
    "\n",
    "For our dataset, since we have a majority class of 16,259 observations, we will choose to downsample since upsampling would result in 32,518 observations. This is a huge value, and would take a lot of time to run code on. An underfitted dataset would only have 3,278 observations, therefore it'll be far more efficient to choose this option. "
   ]
  },
  {
   "cell_type": "code",
   "execution_count": 36,
   "metadata": {},
   "outputs": [
    {
     "name": "stderr",
     "output_type": "stream",
     "text": [
      "Loading required package: lattice\n",
      "\n",
      "\n",
      "Attaching package: ‘caret’\n",
      "\n",
      "\n",
      "The following objects are masked from ‘package:yardstick’:\n",
      "\n",
      "    precision, recall, sensitivity, specificity\n",
      "\n",
      "\n",
      "The following object is masked from ‘package:purrr’:\n",
      "\n",
      "    lift\n",
      "\n",
      "\n"
     ]
    }
   ],
   "source": [
    "# in order to underfit our data, we load a new library with the tools to do so, called caret\n",
    "library(caret)"
   ]
  },
  {
   "cell_type": "code",
   "execution_count": 40,
   "metadata": {},
   "outputs": [
    {
     "data": {
      "text/html": [
       "3278"
      ],
      "text/latex": [
       "3278"
      ],
      "text/markdown": [
       "3278"
      ],
      "text/plain": [
       "[1] 3278"
      ]
     },
     "metadata": {},
     "output_type": "display_data"
    },
    {
     "data": {
      "text/plain": [
       " mean_int_prof      sd_int_prof    kurt_int_prof     skew_int_prof     \n",
       " Min.   :  5.812   Min.   :24.77   Min.   :-1.8760   Min.   :-1.59365  \n",
       " 1st Qu.: 54.268   1st Qu.:36.58   1st Qu.: 0.1814   1st Qu.: 0.06486  \n",
       " Median : 95.512   Median :43.69   Median : 0.6357   Median : 1.24321  \n",
       " Mean   : 86.459   Mean   :43.12   Mean   : 1.6690   Mean   : 7.95201  \n",
       " 3rd Qu.:117.441   3rd Qu.:49.21   3rd Qu.: 2.9610   3rd Qu.:11.60289  \n",
       " Max.   :192.617   Max.   :83.80   Max.   : 8.0695   Max.   :68.10162  \n",
       "   mean_curve          sd_curve        kurt_curve       skew_curve      \n",
       " Min.   :  0.2132   Min.   :  7.37   Min.   :-2.449   Min.   :  -1.938  \n",
       " 1st Qu.:  2.4971   1st Qu.: 17.09   1st Qu.: 1.654   1st Qu.:   1.701  \n",
       " Median :  6.8428   Median : 32.56   Median : 5.235   Median :  28.206  \n",
       " Mean   : 29.3071   Mean   : 39.86   Mean   : 5.864   Mean   :  67.867  \n",
       " 3rd Qu.: 39.5928   3rd Qu.: 62.06   3rd Qu.: 9.029   3rd Qu.:  97.495  \n",
       " Max.   :207.3027   Max.   :109.66   Max.   :34.540   Max.   :1191.001  \n",
       " class   \n",
       " 0:1639  \n",
       " 1:1639  \n",
       "         \n",
       "         \n",
       "         \n",
       "         "
      ]
     },
     "metadata": {},
     "output_type": "display_data"
    }
   ],
   "source": [
    "set.seed(2022)\n",
    "\n",
    "# creating an underfitted data set\n",
    "down <- c(sample(false,length(pulsar)),pulsar)\n",
    "\n",
    "# here we are making a new vector, combining the true pulsars and a new random sample of false candidates that has the same length as true pulsars\n",
    "length(down) # the total amount of observations we have in the \"down\" vector, we can see\n",
    "pulsar_down <- pulsar_data[down,] # create new pulsar_data dataframe including the indices in \"down\" (our underfitted data set)\n",
    "summary(pulsar_down) # we can see a summary of our new underfitted data set\n",
    "# looking at the class variable, we see we have an even amount of class = 0 and class = 1 (1639 of each!)"
   ]
  },
  {
   "cell_type": "markdown",
   "metadata": {},
   "source": [
    "_Figure 6. Summary Table of pulsar_down._"
   ]
  },
  {
   "cell_type": "markdown",
   "metadata": {},
   "source": [
    "Now we have successfully created a downsampled dataset, and we can see that it has 1,639 observations of each class. We can proceed to splitting our newly refitted data into training and testing subsets."
   ]
  },
  {
   "cell_type": "code",
   "execution_count": 23,
   "metadata": {},
   "outputs": [],
   "source": [
    "set.seed(2022)\n",
    "\n",
    "# initial split for underfitted data\n",
    "# question: should we add split for unfitted data for comparison?\n",
    "\n",
    "pulsar_down_split <- initial_split(pulsar_down, prop = 0.75, strata = class)  \n",
    "pulsar_down_train <- training(pulsar_down_split)   \n",
    "pulsar_down_test <- testing(pulsar_down_split)"
   ]
  },
  {
   "cell_type": "markdown",
   "metadata": {},
   "source": [
    "With our training set, we can make a recipe using the three variables we singled out earlier."
   ]
  },
  {
   "cell_type": "code",
   "execution_count": 24,
   "metadata": {},
   "outputs": [
    {
     "data": {
      "text/plain": [
       "Data Recipe\n",
       "\n",
       "Inputs:\n",
       "\n",
       "      role #variables\n",
       "   outcome          1\n",
       " predictor          3\n",
       "\n",
       "Operations:\n",
       "\n",
       "Scaling for all_predictors()\n",
       "Centering for all_predictors()"
      ]
     },
     "metadata": {},
     "output_type": "display_data"
    }
   ],
   "source": [
    "set.seed(2022)\n",
    "\n",
    "pulsar_down_recipe <- recipe(class ~ kurt_int_prof + mean_curve + skew_int_prof,\n",
    "                       data = pulsar_down_train) %>%\n",
    "    step_scale(all_predictors()) %>%\n",
    "    step_center(all_predictors())\n",
    "pulsar_down_recipe"
   ]
  },
  {
   "cell_type": "markdown",
   "metadata": {},
   "source": [
    "We can't go straight into building our classifier, since we must first find an optimal value of k, or the number of neighbours. In order to obtain the best estimate of accuracy, we will perform a 5-fold cross-validation on our training data to avoid inaccuracies caused by random split of the validation/training sets. "
   ]
  },
  {
   "cell_type": "code",
   "execution_count": 25,
   "metadata": {},
   "outputs": [],
   "source": [
    "set.seed(2022)\n",
    "\n",
    "# split our training data into 5 folds, preparing for cross-validation\n",
    "pulsar_down_vfold <- vfold_cv(pulsar_down_train, v = 5, strata = class)\n",
    "\n",
    "# build tuning model\n",
    "knn_tune <- nearest_neighbor(weight_func = 'rectangular', neighbors = tune()) %>%\n",
    "    set_engine('kknn') %>%\n",
    "    set_mode('classification')\n",
    "\n",
    "# run cross-validation and collect results \n",
    "knn_down_results <- workflow() %>%\n",
    "    add_recipe(pulsar_down_recipe) %>%\n",
    "    add_model(knn_tune) %>%\n",
    "    tune_grid(resamples = pulsar_down_vfold, grid = 10) %>%\n",
    "    collect_metrics"
   ]
  },
  {
   "cell_type": "markdown",
   "metadata": {},
   "source": [
    "Now, it's time to plot our results in order to decide on the optimal k-value:"
   ]
  },
  {
   "cell_type": "code",
   "execution_count": 38,
   "metadata": {},
   "outputs": [
    {
     "ename": "ERROR",
     "evalue": "Error in eval(lhs, parent, parent): object 'knn_down_results' not found\n",
     "output_type": "error",
     "traceback": [
      "Error in eval(lhs, parent, parent): object 'knn_down_results' not found\nTraceback:\n",
      "1. knn_down_results %>% filter(.metric == \"accuracy\")",
      "2. eval(lhs, parent, parent)",
      "3. eval(lhs, parent, parent)"
     ]
    }
   ],
   "source": [
    "set.seed(2022)\n",
    "\n",
    "# filter for the accuracy reports only\n",
    "accuracies_down <- knn_down_results %>%\n",
    "    filter(.metric == \"accuracy\")\n",
    "\n",
    "# create a plot of estimated accuracy vs k-value\n",
    "cross_val_plot_down <- ggplot(accuracies_down, aes(x= neighbors, y=mean)) +\n",
    "    geom_point() +\n",
    "    geom_line() +\n",
    "    labs(x = \"Neighbors\", y = \"Accuracy Estimate\") +\n",
    "    theme(text = element_text(size=20)) +\n",
    "    scale_x_continuous(breaks = seq(0, 14, by = 1)) +  # adjusting the x-axis\n",
    "    scale_y_continuous(limits = c(0.4, 1.0)) + # adjusting the y-axis\n",
    "    ggtitle(\"Figure 7. Accuracy Estimate vs Number of Neighbours\")\n",
    "cross_val_plot_down"
   ]
  },
  {
   "cell_type": "markdown",
   "metadata": {},
   "source": [
    "For our analysis, we will be using k = 10, since the accuracy estimate seems to be the highest between k-values 9-11 (Figure 7). We choose 10 since it is in the middle of a good range: as the accuracy report is only an estimate, the actual estimate could be different, and so we want to find a range of good values in our estimate and pick one in the middle of that range.\n",
    "\n",
    "Now that we've chosen our k-value, it's time to build our classifier. We can re-use our recipe here, but we build a new knn-model with our chosen k of 10 since our previous model was meant for tuning."
   ]
  },
  {
   "cell_type": "code",
   "execution_count": 27,
   "metadata": {},
   "outputs": [
    {
     "data": {
      "text/plain": [
       "══ Workflow ════════════════════════════════════════════════════════════════════\n",
       "\u001b[3mPreprocessor:\u001b[23m Recipe\n",
       "\u001b[3mModel:\u001b[23m nearest_neighbor()\n",
       "\n",
       "── Preprocessor ────────────────────────────────────────────────────────────────\n",
       "2 Recipe Steps\n",
       "\n",
       "● step_scale()\n",
       "● step_center()\n",
       "\n",
       "── Model ───────────────────────────────────────────────────────────────────────\n",
       "K-Nearest Neighbor Model Specification (classification)\n",
       "\n",
       "Main Arguments:\n",
       "  neighbors = 10\n",
       "  weight_func = rectangular\n",
       "\n",
       "Computational engine: kknn \n"
      ]
     },
     "metadata": {},
     "output_type": "display_data"
    }
   ],
   "source": [
    "set.seed(2022)\n",
    "\n",
    "# knn model using our chosen k-value\n",
    "knn_spec_down <- nearest_neighbor(weight_func = 'rectangular', neighbors = 10) %>%\n",
    "    set_engine('kknn') %>%\n",
    "    set_mode('classification')\n",
    "\n",
    "# build workflow using the new model\n",
    "pulsar_down_workflow <- workflow() %>%\n",
    "    add_recipe(pulsar_down_recipe) %>%\n",
    "    add_model(knn_spec_down)\n",
    "pulsar_down_workflow\n",
    "\n",
    "# run workflow on our training data\n",
    "pulsar_down_fit <- pulsar_down_workflow %>%\n",
    "    fit(data = pulsar_down_train)"
   ]
  },
  {
   "cell_type": "markdown",
   "metadata": {},
   "source": [
    "Now that we've built our classifier, it's time to test it using our testing data and see how accurate it is."
   ]
  },
  {
   "cell_type": "code",
   "execution_count": 28,
   "metadata": {},
   "outputs": [
    {
     "data": {
      "text/html": [
       "<table>\n",
       "<caption>A tibble: 2 × 3</caption>\n",
       "<thead>\n",
       "\t<tr><th scope=col>.metric</th><th scope=col>.estimator</th><th scope=col>.estimate</th></tr>\n",
       "\t<tr><th scope=col>&lt;chr&gt;</th><th scope=col>&lt;chr&gt;</th><th scope=col>&lt;dbl&gt;</th></tr>\n",
       "</thead>\n",
       "<tbody>\n",
       "\t<tr><td>accuracy</td><td>binary</td><td>0.9364303</td></tr>\n",
       "\t<tr><td>kap     </td><td>binary</td><td>0.8728606</td></tr>\n",
       "</tbody>\n",
       "</table>\n"
      ],
      "text/latex": [
       "A tibble: 2 × 3\n",
       "\\begin{tabular}{lll}\n",
       " .metric & .estimator & .estimate\\\\\n",
       " <chr> & <chr> & <dbl>\\\\\n",
       "\\hline\n",
       "\t accuracy & binary & 0.9364303\\\\\n",
       "\t kap      & binary & 0.8728606\\\\\n",
       "\\end{tabular}\n"
      ],
      "text/markdown": [
       "\n",
       "A tibble: 2 × 3\n",
       "\n",
       "| .metric &lt;chr&gt; | .estimator &lt;chr&gt; | .estimate &lt;dbl&gt; |\n",
       "|---|---|---|\n",
       "| accuracy | binary | 0.9364303 |\n",
       "| kap      | binary | 0.8728606 |\n",
       "\n"
      ],
      "text/plain": [
       "  .metric  .estimator .estimate\n",
       "1 accuracy binary     0.9364303\n",
       "2 kap      binary     0.8728606"
      ]
     },
     "metadata": {},
     "output_type": "display_data"
    }
   ],
   "source": [
    "set.seed(2022)\n",
    "\n",
    "# summary of how well our classifier works on the testing data\n",
    "pulsar_down_summary <- pulsar_down_fit %>%\n",
    "    predict(pulsar_down_test) %>%\n",
    "    bind_cols(pulsar_down_test) %>%\n",
    "    metrics(truth = class, estimate = .pred_class)\n",
    "pulsar_down_summary"
   ]
  },
  {
   "cell_type": "markdown",
   "metadata": {},
   "source": [
    "_Figure 8. Accuracy summary of our pulsar candidate classifier._"
   ]
  },
  {
   "cell_type": "markdown",
   "metadata": {},
   "source": [
    "A 93.64% accuracy sounds quite good, but what does this value actually mean? How accurate is our classifier really? Let's compare it to the majority classifier:"
   ]
  },
  {
   "cell_type": "code",
   "execution_count": 22,
   "metadata": {},
   "outputs": [
    {
     "name": "stderr",
     "output_type": "stream",
     "text": [
      "`summarise()` ungrouping output (override with `.groups` argument)\n",
      "\n"
     ]
    },
    {
     "data": {
      "text/html": [
       "<table>\n",
       "<caption>A tibble: 2 × 3</caption>\n",
       "<thead>\n",
       "\t<tr><th scope=col>class</th><th scope=col>n</th><th scope=col>percent</th></tr>\n",
       "\t<tr><th scope=col>&lt;fct&gt;</th><th scope=col>&lt;int&gt;</th><th scope=col>&lt;dbl&gt;</th></tr>\n",
       "</thead>\n",
       "<tbody>\n",
       "\t<tr><td>0</td><td>1230</td><td>50</td></tr>\n",
       "\t<tr><td>1</td><td>1230</td><td>50</td></tr>\n",
       "</tbody>\n",
       "</table>\n"
      ],
      "text/latex": [
       "A tibble: 2 × 3\n",
       "\\begin{tabular}{lll}\n",
       " class & n & percent\\\\\n",
       " <fct> & <int> & <dbl>\\\\\n",
       "\\hline\n",
       "\t 0 & 1230 & 50\\\\\n",
       "\t 1 & 1230 & 50\\\\\n",
       "\\end{tabular}\n"
      ],
      "text/markdown": [
       "\n",
       "A tibble: 2 × 3\n",
       "\n",
       "| class &lt;fct&gt; | n &lt;int&gt; | percent &lt;dbl&gt; |\n",
       "|---|---|---|\n",
       "| 0 | 1230 | 50 |\n",
       "| 1 | 1230 | 50 |\n",
       "\n"
      ],
      "text/plain": [
       "  class n    percent\n",
       "1 0     1230 50     \n",
       "2 1     1230 50     "
      ]
     },
     "metadata": {},
     "output_type": "display_data"
    }
   ],
   "source": [
    "#check majority class to compare\n",
    "pulsar_down_proportions <- pulsar_down_train %>%\n",
    "                      group_by(class) %>%\n",
    "                      summarize(n = n()) %>%\n",
    "                      mutate(percent = 100*n/nrow(pulsar_down_train))\n",
    "pulsar_down_proportions"
   ]
  },
  {
   "cell_type": "markdown",
   "metadata": {},
   "source": [
    "_Figure 9. Proportions of the classes in pulsar_down._"
   ]
  },
  {
   "cell_type": "markdown",
   "metadata": {},
   "source": [
    "Since we are testing on underfitted data, our data split is exactly 50/50, meaning that the accuracy of the majority classifier would be 50%. Our classifier is far more accurate than the majority classifier, which is great.\n",
    "\n",
    "Let's analyze the confusion matrix to see what our data is getting wrong, to see if there is a common mistake that the classifier makes."
   ]
  },
  {
   "cell_type": "code",
   "execution_count": 21,
   "metadata": {},
   "outputs": [
    {
     "data": {
      "text/plain": [
       "          Truth\n",
       "Prediction   0   1\n",
       "         0 402  45\n",
       "         1   7 364"
      ]
     },
     "metadata": {},
     "output_type": "display_data"
    }
   ],
   "source": [
    "set.seed(2022)\n",
    "\n",
    "# summary of what our data is getting wrong\n",
    "conf_summary <- pulsar_down_fit %>%\n",
    "    predict(pulsar_down_test) %>%\n",
    "    bind_cols(pulsar_down_test) %>%\n",
    "    conf_mat(truth = class, estimate = .pred_class)\n",
    "conf_summary"
   ]
  },
  {
   "cell_type": "markdown",
   "metadata": {},
   "source": [
    "_Figure 10. Confusion matrix of our pulsar candidate classifier._"
   ]
  },
  {
   "cell_type": "markdown",
   "metadata": {},
   "source": [
    "The confusion matrix (figure 10) shows us that 402 false candidates and 364 true pulsars were correctly classified. 45 true pulsars were incorrectly labelled as false, and 7 false candidates were incorrectly labelled as true. This means that our classifier tends to mistake true pulsars as false candidates."
   ]
  },
  {
   "cell_type": "markdown",
   "metadata": {},
   "source": [
    "### Discussion \n",
    "\n",
    "Our classifier was able to distinguish pulsar observations from non-pulsars with an accuracy of 93.62%. This is much higher than the majority classifier accuracy of 50% for our data set. The confusion matrix (figure 10) indicated that our classifier tended to mistake true pulsars for false candidates rather than the inverse, which means that there are fewer false positives than false negatives. This means that the observations labelled as true pulsars by our classifier is likely to be accurate, but the observations labelled as false candidates likely contain mislabelled true pulsars. Therefore, our classifier may be helpful for scientific research regarding pulsars. It would be less applicable to scientific research if the classifier tended towards false positives than false negatives, because scientists are not concerned with noise observations and so the accuracy of classifying them matters less. \n",
    "\n",
    "We expected to be able to develop an accurate classifier to parse out non-pulsars from pulsar observations based on the mean of the DM-SNR curve, excess kurtosis of the integrated profile, and the skewness of the integrated profile of the observations. We chose those variables as predictors since they were the variables with the highest relative difference out of all of the variables in the HTRU2 data set. We were able to make a classifier that labelled pulsar candidates with higher accuracy than the majority classifier, which matches our expected outcomes. \n",
    "\n",
    "An accurate pulsar/non-pulsar classifier may be able to help scientists parse through large data sets to filter out pulsars from noise, since pulsars are of high interest to scientific study. Pulsars, due to their lighthouse-like behaviour, are tools to help with research regarding extreme states of matter and exoplanets. It is complicated to determine whether pulsar candidates are real pulsars or not, so having an accurate classifier may greatly improve efficiency. Since our classifier works accurately, we have evidence that suggests a link between the variables we used as predictors (excess kurtosis and skewness of the mean integrated profile and mean of the DM-SNR curve) and pulsar status. One question that arises is how those variables relate to one another, beyond being individually considered?"
   ]
  },
  {
   "cell_type": "markdown",
   "metadata": {},
   "source": [
    "### Works Cited\n",
    "Agarwal, N., Limam, M., Das, T. (2020, August 26). Predicting pulsar star: Pulsar candidates collected during the high time resolution universe survey. Kaggle. Retrieved April 9, 2022, from https://www.kaggle.com/datasets/colearninglounge/predicting-pulsar-starintermediate\n",
    "\n",
    "Castro, M. (2020, September 18). How to resolve class imbalance in R. YouTube. Retrieved April 9, 2022, from https://www.youtube.com/watch?v=bWD9Bmrru44&amp;ab_channel=MarioCastro \n",
    "\n",
    "Keith, M.J., Jameson, A., van Straten, W., Bailes, M., Johnston, S., Kramer, M., Possenti, A., \n",
    "    Bates, S.D., Bhat, N.D.R., Burgay, M. (2010). The High Time Resolution Universe Pulsar Survey — I. System configuration \n",
    "    and initial discoveries. Monthly Notices of the Royal Astronomical Society, 409(2), 619—627. Doi: 10.111/j.1365-\n",
    "    2966.2010.17325.x\n",
    "    \n",
    "Lyon, R. J. (2016a). Why are pulsars hard to find?. The University of Manchester (United Kingdom).\n",
    "    \n",
    "Lyon, R.J., Stappers, B.W., Cooper, S., Brooke, J.M., Knowles, J.D. (2016b). Fifty years of pulsar \n",
    "    candidate selection: From simple filters to a new principled real-time classification approach. Monthly Notices of the \n",
    "    Royal Astronomical Society, 459(1), 1104—1123. Doi: 10.1093/mnras/stw656. \n",
    "\n",
    "NASA. (2014, February 10). NASA | What is a pulsar? Youtube. Retrieved April 9, 2022, from https://www.youtube.com/watch?v=gjLk_72V9Bw&ab_channel=NASAGoddard\n",
    "\n"
   ]
  }
 ],
 "metadata": {
  "kernelspec": {
   "display_name": "R",
   "language": "R",
   "name": "ir"
  },
  "language_info": {
   "codemirror_mode": "r",
   "file_extension": ".r",
   "mimetype": "text/x-r-source",
   "name": "R",
   "pygments_lexer": "r",
   "version": "4.0.0"
  }
 },
 "nbformat": 4,
 "nbformat_minor": 4
}
